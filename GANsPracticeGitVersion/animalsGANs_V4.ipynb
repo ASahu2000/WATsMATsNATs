{
 "cells": [
  {
   "cell_type": "code",
   "execution_count": 21,
   "metadata": {
    "collapsed": true
   },
   "outputs": [],
   "source": [
    "#Importing basically any and all libraries I may need\n",
    "\n",
    "import cv2\n",
    "from matplotlib import pyplot as plt\n",
    "from skimage import data\n",
    "from skimage.feature import blob_dog, blob_log, blob_doh\n",
    "from math import sqrt\n",
    "from skimage.color import rgb2gray\n",
    "import glob\n",
    "from skimage.io import imread\n",
    "import os\n",
    "import scipy\n",
    "from PIL import Image, ImageDraw, ImageShow\n",
    "import numpy as np\n",
    "from PIL import Image, ImageDraw, ImageShow\n",
    "import cv2\n",
    "from pathlib import Path\n",
    "import os\n",
    "import PIL.ImageOps\n",
    "from numpy import asarray\n",
    "import matplotlib.pyplot as plt\n",
    "import tensorflow as tf\n",
    "from tensorflow import keras\n",
    "import matplotlib.path as mpath\n",
    "import numpy as np\n",
    "from scipy import ndimage\n",
    "from collections import Counter\n",
    "#---------------------------------------------------------\n",
    "#Libraries\n",
    "import astropy\n",
    "from astropy.io import fits\n",
    "import matplotlib.pyplot as plt\n",
    "from matplotlib import cm\n",
    "from matplotlib.colors import ListedColormap, LinearSegmentedColormap\n",
    "import cv2\n",
    "from PIL import Image, ImageDraw"
   ]
  },
  {
   "cell_type": "code",
   "execution_count": 15,
   "metadata": {},
   "outputs": [],
   "source": [
    "import matplotlib.pyplot as plt\n",
    "import astropy\n",
    "from astropy.visualization import astropy_mpl_style\n",
    "from astropy.utils.data import get_pkg_data_filename\n",
    "from astropy.io import fits\n",
    "import numpy as np\n",
    "from matplotlib.colors import ListedColormap, LinearSegmentedColormap\n",
    "import matplotlib.colors as colors"
   ]
  },
  {
   "cell_type": "markdown",
   "metadata": {},
   "source": [
    "### Pretty picture"
   ]
  },
  {
   "cell_type": "code",
   "execution_count": 18,
   "metadata": {},
   "outputs": [
    {
     "data": {
      "image/png": "[encoded data removed]",
      "text/plain": [
       "<Figure size 432x288 with 1 Axes>"
      ]
     },
     "metadata": {
      "needs_background": "light"
     },
     "output_type": "display_data"
    }
   ],
   "source": [
    "filename = 'thingtwo'\n",
    "\n",
    "image_file = get_pkg_data_filename('{}.fits'.format(filename))\n",
    "image_data = fits.getdata(image_file, ext=0)\n",
    "\n",
    "#type(image_data)\n",
    "#plt.imshow(image_data, aspect=\"auto\", origin = \"lower\")\n",
    "\n",
    "thresh = 10**-3.1\n",
    "log_image_data = np.copy(image_data)\n",
    "# Removes values below a threshold, deals with negative flux, so can plot log colour scale\n",
    "log_image_data[log_image_data<thresh] = thresh\n",
    "plt.imshow(log_image_data, cmap='viridis', origin='lower', norm=colors.LogNorm())\n",
    "plt.axis(\"off\")\n",
    "    \n",
    "plt.savefig('{}.jpg'.format(filename))"
   ]
  },
  {
   "cell_type": "markdown",
   "metadata": {},
   "source": [
    "## Blob maker"
   ]
  },
  {
   "cell_type": "code",
   "execution_count": 26,
   "metadata": {},
   "outputs": [],
   "source": [
    "import cv2\n",
    "import numpy as np\n",
    "\n",
    "def BlobMaker(filename):\n",
    "    \n",
    "    '''\n",
    "    Input: filename without file extension, in string format\n",
    "            - Might need to change code to include extension in filename\n",
    "    '''\n",
    "        \n",
    "    # read image\n",
    "    img = cv2.imread(\"{}.jpg\".format(filename))\n",
    "    # convert img to grayscale\n",
    "    gray = cv2.cvtColor(img, cv2.COLOR_BGR2GRAY)\n",
    "    # do adaptive threshold on gray image\n",
    "    thresh = cv2.adaptiveThreshold(gray, 255, cv2.ADAPTIVE_THRESH_GAUSSIAN_C, cv2.THRESH_BINARY, 101, 3)\n",
    "    #stupid simple threshold\n",
    "\n",
    "    # apply morphology open then close\n",
    "    kernel = cv2.getStructuringElement(cv2.MORPH_ELLIPSE, (5,5))\n",
    "    blob = cv2.morphologyEx(thresh, cv2.MORPH_OPEN, kernel)\n",
    "    kernel = cv2.getStructuringElement(cv2.MORPH_ELLIPSE, (9,9))\n",
    "    blob = cv2.morphologyEx(blob, cv2.MORPH_CLOSE, kernel)\n",
    "    # invert blob\n",
    "    blob = (255 - blob)\n",
    "    # Get contours\n",
    "    cnts = cv2.findContours(blob, cv2.RETR_EXTERNAL, cv2.CHAIN_APPROX_SIMPLE)\n",
    "    cnts = cnts[0] if len(cnts) == 2 else cnts[1]\n",
    "    big_contour = max(cnts, key=cv2.contourArea)\n",
    "    # test blob size\n",
    "    blob_area_thresh = 1000\n",
    "    blob_area = cv2.contourArea(big_contour)\n",
    "    if blob_area < blob_area_thresh:\n",
    "        print(\"Blob Is Too Small\")\n",
    "    # draw contour\n",
    "    result = img.copy()\n",
    "    cv2.drawContours(result, [big_contour], -1, (0,0,255), 1)\n",
    "    # write results to disk\n",
    "    cv2.imwrite(\"{}_threshold.jpg\".format(filename), thresh)\n",
    "    cv2.imwrite(\"{}_blob.jpg\".format(filename), blob)\n",
    "    cv2.imwrite(\"{}_contour.jpg\".format(filename), result)\n",
    "    # display it\n",
    "    cv2.imshow(\"IMAGE\", img)\n",
    "    cv2.imshow(\"THRESHOLD\", thresh)\n",
    "    cv2.imshow(\"BLOB\", blob)\n",
    "    cv2.imshow(\"RESULT\", result)\n",
    "    cv2.waitKey(0)"
   ]
  },
  {
   "cell_type": "markdown",
   "metadata": {},
   "source": [
    "## Blob finder"
   ]
  },
  {
   "cell_type": "code",
   "execution_count": 19,
   "metadata": {},
   "outputs": [],
   "source": [
    "def BlobFinder(filename):\n",
    "    \n",
    "    '''\n",
    "    Input: filename without file extension, in string format\n",
    "            - Might need to change code to include extension in filename\n",
    "    '''\n",
    "    \n",
    "    ImageObject = imread('{}.jpg'.format(filename))\n",
    "    #plt.imshow(ImageObject) #comment this later    \n",
    "    image = ImageObject\n",
    "    image_gray = rgb2gray(image)    \n",
    "    blobs_log = blob_log(image_gray,min_sigma = 1, max_sigma=50, num_sigma=60, threshold=0.5)    \n",
    "    # Compute radii in the 3rd column.\n",
    "    blobs_log[:, 2] = blobs_log[:, 2] * sqrt(2)\n",
    "    blobs_list = blobs_log  \n",
    "    radii = []\n",
    "    x_locs = [] # x coordinates of blobs\n",
    "    y_locs = [] # y coordinates of blobs    \n",
    "    for i in blobs_list:\n",
    "        #print(i)\n",
    "        radii.append(i[2])\n",
    "        x_locs.append(i[1])\n",
    "        y_locs.append(i[0])\n",
    "    # [y,x,r]    \n",
    "    plt.scatter(x_locs,y_locs,alpha = 0.8, color = 'red')\n",
    "    plt.imshow(ImageObject)\n",
    "    print('Number of blobs detected:  ',len(x_locs))\n",
    "    print(\"------------- Blobs have been located -------------\")\n",
    "    return(ImageObject)"
   ]
  },
  {
   "cell_type": "markdown",
   "metadata": {},
   "source": [
    "## Do stuff\n",
    "- Pretty picture has been made (logarithm has been applied)\n",
    "1. Run blob maker to make the contours and identify the different interesting regions\n",
    "2. Run blob finder to identify these and plot scatter points at these locations"
   ]
  },
  {
   "cell_type": "code",
   "execution_count": 27,
   "metadata": {},
   "outputs": [],
   "source": [
    "BlobMaker(\"thingtwo\")"
   ]
  },
  {
   "cell_type": "code",
   "execution_count": 29,
   "metadata": {},
   "outputs": [
    {
     "name": "stdout",
     "output_type": "stream",
     "text": [
      "Number of blobs detected:   30\n",
      "------------- Blobs have been located -------------\n"
     ]
    },
    {
     "data": {
      "image/png": "[encoded data removed]",
      "text/plain": [
       "<Figure size 432x288 with 1 Axes>"
      ]
     },
     "metadata": {
      "needs_background": "light"
     },
     "output_type": "display_data"
    }
   ],
   "source": [
    "plot = BlobFinder(\"thingtwo_threshold\")\n",
    "im1 = plt.imshow(plot)"
   ]
  },
  {
   "cell_type": "markdown",
   "metadata": {},
   "source": [
    "# Do other stuff - Stupid simple threshold"
   ]
  },
  {
   "cell_type": "markdown",
   "metadata": {},
   "source": [
    "Previously applied an adaptive Gaussian threshold. Attempt to do the same"
   ]
  },
  {
   "cell_type": "markdown",
   "metadata": {},
   "source": [
    "### BlobMaker2.0"
   ]
  },
  {
   "cell_type": "code",
   "execution_count": 35,
   "metadata": {},
   "outputs": [],
   "source": [
    "import cv2\n",
    "import numpy as np\n",
    "\n",
    "def BlobMaker2(filename):   \n",
    "    '''\n",
    "    Input: filename without file extension, in string format\n",
    "            - Might need to change code to include extension in filename\n",
    "    '''       \n",
    "    # read image\n",
    "    img = cv2.imread(\"{}.jpg\".format(filename))\n",
    "    # convert img to grayscale\n",
    "    gray = cv2.cvtColor(img, cv2.COLOR_BGR2GRAY)\n",
    "    # do adaptive threshold on gray image\n",
    "    ret, thresh = cv2.adaptiveThreshold(gray, 120, 255, cv2.THRESH_BINARY + cv2.THRESH_OTSU)\n",
    "    #stupid simple threshold\n",
    "\n",
    "    # apply morphology open then close\n",
    "    kernel = cv2.getStructuringElement(cv2.MORPH_ELLIPSE, (5,5))\n",
    "    blob = cv2.morphologyEx(thresh, cv2.MORPH_OPEN, kernel)\n",
    "    kernel = cv2.getStructuringElement(cv2.MORPH_ELLIPSE, (9,9))\n",
    "    blob = cv2.morphologyEx(blob, cv2.MORPH_CLOSE, kernel)\n",
    "    # invert blob\n",
    "    blob = (255 - blob)\n",
    "    # Get contours\n",
    "    cnts = cv2.findContours(blob, cv2.RETR_EXTERNAL, cv2.CHAIN_APPROX_SIMPLE)\n",
    "    cnts = cnts[0] if len(cnts) == 2 else cnts[1]\n",
    "    big_contour = max(cnts, key=cv2.contourArea)\n",
    "    # test blob size\n",
    "    blob_area_thresh = 1000\n",
    "    blob_area = cv2.contourArea(big_contour)\n",
    "    if blob_area < blob_area_thresh:\n",
    "        print(\"Blob Is Too Small\")\n",
    "    # draw contour\n",
    "    result = img.copy()\n",
    "    cv2.drawContours(result, [big_contour], -1, (0,0,255), 1)\n",
    "    # write results to disk\n",
    "    cv2.imwrite(\"{}_threshold.jpg\".format(filename), thresh)\n",
    "    cv2.imwrite(\"{}_blob.jpg\".format(filename), blob)\n",
    "    cv2.imwrite(\"{}_contour.jpg\".format(filename), result)\n",
    "    # display it\n",
    "    cv2.imshow(\"IMAGE\", img)\n",
    "    cv2.imshow(\"THRESHOLD\", thresh)\n",
    "    cv2.imshow(\"BLOB\", blob)\n",
    "    cv2.imshow(\"RESULT\", result)\n",
    "    cv2.waitKey(0)"
   ]
  },
  {
   "cell_type": "code",
   "execution_count": 36,
   "metadata": {},
   "outputs": [
    {
     "ename": "error",
     "evalue": "OpenCV(4.5.3) :-1: error: (-5:Bad argument) in function 'adaptiveThreshold'\n> Overload resolution failed:\n>  - adaptiveThreshold() missing required argument 'blockSize' (pos 5)\n>  - adaptiveThreshold() missing required argument 'blockSize' (pos 5)\n",
     "output_type": "error",
     "traceback": [
      "\u001b[1;31m---------------------------------------------------------------------------\u001b[0m",
      "\u001b[1;31merror\u001b[0m                                     Traceback (most recent call last)",
      "\u001b[1;32m<ipython-input-36-800cd9a2f22e>\u001b[0m in \u001b[0;36m<module>\u001b[1;34m\u001b[0m\n\u001b[1;32m----> 1\u001b[1;33m \u001b[0mBlobMaker2\u001b[0m\u001b[1;33m(\u001b[0m\u001b[0mfilename\u001b[0m\u001b[1;33m)\u001b[0m\u001b[1;33m\u001b[0m\u001b[1;33m\u001b[0m\u001b[0m\n\u001b[0m",
      "\u001b[1;32m<ipython-input-35-f9b2d68fb283>\u001b[0m in \u001b[0;36mBlobMaker2\u001b[1;34m(filename)\u001b[0m\n\u001b[0;32m     12\u001b[0m     \u001b[0mgray\u001b[0m \u001b[1;33m=\u001b[0m \u001b[0mcv2\u001b[0m\u001b[1;33m.\u001b[0m\u001b[0mcvtColor\u001b[0m\u001b[1;33m(\u001b[0m\u001b[0mimg\u001b[0m\u001b[1;33m,\u001b[0m \u001b[0mcv2\u001b[0m\u001b[1;33m.\u001b[0m\u001b[0mCOLOR_BGR2GRAY\u001b[0m\u001b[1;33m)\u001b[0m\u001b[1;33m\u001b[0m\u001b[1;33m\u001b[0m\u001b[0m\n\u001b[0;32m     13\u001b[0m     \u001b[1;31m# do adaptive threshold on gray image\u001b[0m\u001b[1;33m\u001b[0m\u001b[1;33m\u001b[0m\u001b[1;33m\u001b[0m\u001b[0m\n\u001b[1;32m---> 14\u001b[1;33m     \u001b[0mret\u001b[0m\u001b[1;33m,\u001b[0m \u001b[0mthresh\u001b[0m \u001b[1;33m=\u001b[0m \u001b[0mcv2\u001b[0m\u001b[1;33m.\u001b[0m\u001b[0madaptiveThreshold\u001b[0m\u001b[1;33m(\u001b[0m\u001b[0mgray\u001b[0m\u001b[1;33m,\u001b[0m \u001b[1;36m120\u001b[0m\u001b[1;33m,\u001b[0m \u001b[1;36m255\u001b[0m\u001b[1;33m,\u001b[0m \u001b[0mcv2\u001b[0m\u001b[1;33m.\u001b[0m\u001b[0mTHRESH_BINARY\u001b[0m \u001b[1;33m+\u001b[0m \u001b[0mcv2\u001b[0m\u001b[1;33m.\u001b[0m\u001b[0mTHRESH_OTSU\u001b[0m\u001b[1;33m)\u001b[0m\u001b[1;33m\u001b[0m\u001b[1;33m\u001b[0m\u001b[0m\n\u001b[0m\u001b[0;32m     15\u001b[0m     \u001b[1;31m#stupid simple threshold\u001b[0m\u001b[1;33m\u001b[0m\u001b[1;33m\u001b[0m\u001b[1;33m\u001b[0m\u001b[0m\n\u001b[0;32m     16\u001b[0m \u001b[1;33m\u001b[0m\u001b[0m\n",
      "\u001b[1;31merror\u001b[0m: OpenCV(4.5.3) :-1: error: (-5:Bad argument) in function 'adaptiveThreshold'\n> Overload resolution failed:\n>  - adaptiveThreshold() missing required argument 'blockSize' (pos 5)\n>  - adaptiveThreshold() missing required argument 'blockSize' (pos 5)\n"
     ]
    }
   ],
   "source": [
    "BlobMaker2(filename)"
   ]
  }
 ],
 "metadata": {
  "kernelspec": {
   "display_name": "Python 3",
   "language": "python",
   "name": "python3"
  },
  "language_info": {
   "codemirror_mode": {
    "name": "ipython",
    "version": 3
   },
   "file_extension": ".py",
   "mimetype": "text/x-python",
   "name": "python",
   "nbconvert_exporter": "python",
   "pygments_lexer": "ipython3",
   "version": "3.7.6"
  }
 },
 "nbformat": 4,
 "nbformat_minor": 4
}
