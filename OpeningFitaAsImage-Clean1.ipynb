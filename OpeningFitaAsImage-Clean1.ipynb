{
 "cells": [
  {
   "cell_type": "markdown",
   "metadata": {},
   "source": [
    "## OpeningFitsAsImage\n",
    "#### See this documentation:  https://python4astronomers.github.io/astropy/fits.html\n",
    "Anwesha Sahu, MSci Project, ML + Radio Astronomy"
   ]
  },
  {
   "cell_type": "code",
   "execution_count": 1,
   "metadata": {},
   "outputs": [],
   "source": [
    "import astropy\n",
    "import numpy as np\n",
    "from astropy.nddata import CCDData\n",
    "from astropy.nddata.utils import Cutout2D\n",
    "from astropy import units as u\n",
    "from astropy.wcs import WCS\n",
    "import ccdproc\n",
    "from ccdproc import trim_image\n",
    "from astropy.io import fits\n",
    "import matplotlib.pyplot as plt\n",
    "from matplotlib import cm\n",
    "from matplotlib.colors import ListedColormap, LinearSegmentedColormap\n",
    "import cv2\n",
    "from PIL import Image, ImageDraw"
   ]
  },
  {
   "cell_type": "code",
   "execution_count": 2,
   "metadata": {
    "scrolled": true
   },
   "outputs": [
    {
     "name": "stdout",
     "output_type": "stream",
     "text": [
      "Filename: test.fits\n",
      "No.    Name      Ver    Type      Cards   Dimensions   Format\n",
      "  0  PRIMARY       1 PrimaryHDU      71   (7500, 7500)   float64   \n"
     ]
    },
    {
     "data": {
      "text/plain": [
       "SIMPLE  =                    T /                                                \n",
       "BITPIX  =                  -64 / number of bits per data pixel                  \n",
       "NAXIS   =                    2 /                                                \n",
       "NAXIS1  =                 7500 / length of data axis 1                          \n",
       "NAXIS2  =                 7500 / length of data axis 2                          \n",
       "EXTEND  =                    T / FITS dataset may contain extensions            \n",
       "COMMENT   FITS (Flexible Image Transport System) format is defined in 'Astronomy\n",
       "COMMENT   and Astrophysics', volume 376, page 359; bibcode: 2001A&A...376..359H \n",
       "CTYPE1  = 'GLON-SIN'           / Axis type                                      \n",
       "CDELT1  =        -4.166667E-04 / Axis coordinate increment                      \n",
       "CRPIX1  =         3.750000E+03 / Axis coordinate reference pixel                \n",
       "CROTA1  =         0.000000E+00 / Axis coordinate rotation                       \n",
       "CRVAL1  =   2.885000000000E+02 / Axis coordinate value at CRPIX                 \n",
       "CTYPE2  = 'GLAT-SIN'           / Axis type                                      \n",
       "CDELT2  =         4.166667E-04 / Axis coordinate increment                      \n",
       "CRPIX2  =         3.750000E+03 / Axis coordinate reference pixel                \n",
       "CROTA2  =         0.000000E+00 / Axis coordinate rotation                       \n",
       "CRVAL2  =  -5.000000000000E-01 / Axis coordinate value at CRPIX                 \n",
       "OBSRA   =   2.443951250000E+02 / Observed Right Ascension                       \n",
       "OBSDEC  =  -5.189980555556E+01 / Observed declination                           \n",
       "OBJECT  = 'T9R04C06'           / Name of object                                 \n",
       "TELESCOP= 'MeerKAT '           / Telescope used                                 \n",
       "INSTRUME= 'MeerKAT '           /                                                \n",
       "OBSERVER= 'SeanPass'           /                                                \n",
       "DATE-OBS= '2018-08-26'         / Date (yyyy-mm-dd) of observation               \n",
       "DATE-MAP= '2021-07-31'         / Date (yyyy-mm-dd) created                      \n",
       "ORIGIN  = 'Obit    '           /                                                \n",
       "EPOCH   =         1.950000E+03 / Celestial coordiate epoch                      \n",
       "EQUINOX =   2.000000000000E+03 /                                                \n",
       "DATAMAX =       2.99999905E+00 / Maximum in data array                          \n",
       "DATAMIN =      -3.00000000E+00 / Minimum in data array                          \n",
       "BUNIT   = 'JY/BEAM '           / Image pixel units                              \n",
       "ALTRPIX =         1.000000E+00 / Alternate reference pixel                      \n",
       "CLEANBMJ=         2.222222E-03 / Convolving Gaussian major axis FWHM (deg)      \n",
       "CLEANBMN=         2.222222E-03 / Convolving Gaussian minor axis FWHM (deg)      \n",
       "CLEANBPA=         8.000000E+00 / Convolving Gaussian position angle (deg)       \n",
       "CLEANNIT=               100000 / Number of Clean iterations                     \n",
       "DO3D    =                    1 /                                                \n",
       "XPXOFF  =   0.000000000000E+00 /                                                \n",
       "YPXOFF  =   0.000000000000E+00 /                                                \n",
       "BMAJ    =            0.0022222                                                  \n",
       "BMIN    =            0.0022222                                                  \n",
       "BPA     =                  8.0                                                  \n",
       "OBSFREQ =     1283895507.81225                                                  \n",
       "        =                    0 /                                                \n",
       "HISTORY AIPS   CLEAN BMAJ=  2.2222e-03 BMIN=  2.2222e-03 BPA=   8.00            \n",
       "HISTORY AIPS   CLEAN NITER=   100000                                            \n",
       "HISTORY AIPS   IMAGE ITYPE=1 XPOFF=      0.00000000 YPOFF=      0.00000000      \n",
       "                                                                                \n",
       "                                                                                \n",
       "                                                                                \n",
       "                                                                                \n",
       "                                                                                \n",
       "                                                                                \n",
       "                                                                                \n",
       "                                                                                \n",
       "                                                                                \n",
       "                                                                                \n",
       "                                                                                \n",
       "                                                                                \n",
       "                                                                                \n",
       "                                                                                \n",
       "                                                                                \n",
       "                                                                                \n",
       "                                                                                \n",
       "                                                                                \n",
       "                                                                                \n",
       "                                                                                \n",
       "                                                                                \n",
       "                                                                                \n",
       "                                                                                "
      ]
     },
     "execution_count": 2,
     "metadata": {},
     "output_type": "execute_result"
    }
   ],
   "source": [
    "hdulist = fits.open('test.fits')\n",
    "hdulist.info()\n",
    "# HDU is header data unit\n",
    "hdu = hdulist[0]\n",
    "hdu.data.shape\n",
    "hdu.header"
   ]
  },
  {
   "cell_type": "code",
   "execution_count": 3,
   "metadata": {},
   "outputs": [
    {
     "data": {
      "image/png": "[encoded data removed]",
      "text/plain": [
       "<Figure size 432x288 with 1 Axes>"
      ]
     },
     "metadata": {
      "needs_background": "light"
     },
     "output_type": "display_data"
    }
   ],
   "source": [
    "color = cm.get_cmap('PuOr', 230)\n",
    "plt.imshow(hdu.data[0:], origin = 'lower', cmap = color)\n",
    "plt.savefig('test.png')"
   ]
  },
  {
   "cell_type": "code",
   "execution_count": 4,
   "metadata": {},
   "outputs": [
    {
     "name": "stdout",
     "output_type": "stream",
     "text": [
      "width, height =  432 288\n"
     ]
    }
   ],
   "source": [
    "# Find brightest pixel in matplotlib figure\n",
    "img_CV = cv2.imread('test.png')\n",
    "img_PIL = Image.open('test.png')\n",
    "width, height = img_PIL.size\n",
    "print('width, height = ', width, height)\n",
    "#cropping\n",
    "left = 115\n",
    "top = 0.15*height\n",
    "right = 325\n",
    "bottom = 0.85*height\n",
    "im1 = img_PIL.crop((left, top, right, bottom))  #crop to get relevant section\n",
    "im1.show()\n",
    "im1.save('test.png')"
   ]
  },
  {
   "cell_type": "markdown",
   "metadata": {},
   "source": [
    "#### Making circle to enclose brightest regions\n",
    "Check examples here\n",
    "- https://www.programcreek.com/python/example/77056/cv2.minEnclosingCircle\n",
    "- Used this StackOverflow solution: \n",
    "https://stackoverflow.com/questions/66571431/python-cv2-determine-radius-of-bright-spot-in-image\n",
    "\n",
    "- cv2 documentation for Contour Features https://docs.opencv.org/3.4/dd/d49/tutorial_py_contour_features.html"
   ]
  },
  {
   "cell_type": "code",
   "execution_count": 5,
   "metadata": {},
   "outputs": [
    {
     "name": "stdout",
     "output_type": "stream",
     "text": [
      "center: (109.5, 185.5) radius: 15\n",
      "109.5\n"
     ]
    }
   ],
   "source": [
    "# read image as grayscale\n",
    "img = cv2.imread('test.png')\n",
    "\n",
    "hh, ww = img.shape[:2]\n",
    "# shave off white region on right side\n",
    "img = img[0:hh, 0:ww-2]\n",
    "# convert to gray\n",
    "gray = cv2.cvtColor(img,cv2.COLOR_BGR2GRAY)\n",
    "# median filter\n",
    "median = cv2.medianBlur(gray, 3)\n",
    "# do canny edge detection\n",
    "canny = cv2.Canny(median, 100, 200)\n",
    "# get canny points\n",
    "# numpy points are (y,x)\n",
    "points = np.argwhere(canny>0)\n",
    "\n",
    "# get min enclosing circle\n",
    "radius = 15\n",
    "center = cv2.minEnclosingCircle(points)[0]\n",
    "print('center:', center, 'radius:', radius)\n",
    "\n",
    "# draw circle on copy of input\n",
    "result = img.copy()\n",
    "x = int(center[1])\n",
    "y = int(center[0])\n",
    "rad = int(radius)\n",
    "image = cv2.circle(result, (x,y), rad, (255,255,255), 1)\n",
    "\n",
    "# write results\n",
    "cv2.imwrite(\"test_canny.jpg\", canny)\n",
    "cv2.imwrite(\"test_circle.jpg\", result)\n",
    "\n",
    "#img_log = np.log(image)\n",
    "\n",
    "\n",
    "#type(image)\n",
    "#log_image = np.log(image)\n",
    "#log_image_rounded = np.around((log_image))\n",
    "\n",
    "print(center[0])"
   ]
  },
  {
   "cell_type": "code",
   "execution_count": 6,
   "metadata": {},
   "outputs": [
    {
     "data": {
      "text/plain": [
       "<matplotlib.image.AxesImage at 0x2667fb8a548>"
      ]
     },
     "execution_count": 6,
     "metadata": {},
     "output_type": "execute_result"
    },
    {
     "data": {
      "image/png": "[encoded data removed]",
      "text/plain": [
       "<Figure size 432x288 with 1 Axes>"
      ]
     },
     "metadata": {
      "needs_background": "light"
     },
     "output_type": "display_data"
    }
   ],
   "source": [
    "#plt.imshow(cv2.circle(result, (x,y), rad, (255,255,255), 1)) #Sanity check\n",
    "plt.imshow(image)"
   ]
  },
  {
   "cell_type": "code",
   "execution_count": 24,
   "metadata": {},
   "outputs": [],
   "source": [
    "x0 = center[1] - 15\n",
    "y0 = center[0] - 15\n",
    "x1 = center[1] + 15\n",
    "y1 = center[0] + 15\n",
    "xy = [(x0,y0), (x1,y1)]\n",
    "start = 0\n",
    "end = 360\n"
   ]
  },
  {
   "cell_type": "code",
   "execution_count": 25,
   "metadata": {},
   "outputs": [],
   "source": [
    "img = Image.open(\"test_circle.jpg\")\n",
    "#ImageDraw.Draw.pieslice(xy,start,end, fill = None, outline = None, width = 1)"
   ]
  },
  {
   "cell_type": "code",
   "execution_count": 30,
   "metadata": {},
   "outputs": [
    {
     "ename": "AttributeError",
     "evalue": "'ImageDraw' object has no attribute 'show'",
     "output_type": "error",
     "traceback": [
      "\u001b[1;31m---------------------------------------------------------------------------\u001b[0m",
      "\u001b[1;31mAttributeError\u001b[0m                            Traceback (most recent call last)",
      "\u001b[1;32m<ipython-input-30-f567cbded22b>\u001b[0m in \u001b[0;36m<module>\u001b[1;34m\u001b[0m\n\u001b[0;32m      2\u001b[0m     \u001b[0mdraw\u001b[0m \u001b[1;33m=\u001b[0m \u001b[0mImageDraw\u001b[0m\u001b[1;33m.\u001b[0m\u001b[0mDraw\u001b[0m\u001b[1;33m(\u001b[0m\u001b[0mim\u001b[0m\u001b[1;33m)\u001b[0m\u001b[1;33m\u001b[0m\u001b[1;33m\u001b[0m\u001b[0m\n\u001b[0;32m      3\u001b[0m     \u001b[0mcircle\u001b[0m \u001b[1;33m=\u001b[0m \u001b[0mdraw\u001b[0m\u001b[1;33m.\u001b[0m\u001b[0mpieslice\u001b[0m\u001b[1;33m(\u001b[0m\u001b[0mxy\u001b[0m\u001b[1;33m,\u001b[0m \u001b[0mstart\u001b[0m\u001b[1;33m,\u001b[0m \u001b[0mend\u001b[0m\u001b[1;33m,\u001b[0m \u001b[0mfill\u001b[0m\u001b[1;33m=\u001b[0m\u001b[1;32mNone\u001b[0m\u001b[1;33m,\u001b[0m \u001b[0moutline\u001b[0m\u001b[1;33m=\u001b[0m\u001b[1;32mNone\u001b[0m\u001b[1;33m,\u001b[0m \u001b[0mwidth\u001b[0m\u001b[1;33m=\u001b[0m\u001b[1;36m1\u001b[0m\u001b[1;33m)\u001b[0m\u001b[1;33m\u001b[0m\u001b[1;33m\u001b[0m\u001b[0m\n\u001b[1;32m----> 4\u001b[1;33m     \u001b[0mdraw\u001b[0m\u001b[1;33m.\u001b[0m\u001b[0mshow\u001b[0m\u001b[1;33m(\u001b[0m\u001b[1;33m)\u001b[0m\u001b[1;33m\u001b[0m\u001b[1;33m\u001b[0m\u001b[0m\n\u001b[0m",
      "\u001b[1;31mAttributeError\u001b[0m: 'ImageDraw' object has no attribute 'show'"
     ]
    }
   ],
   "source": [
    "with Image.open(\"test_circle.jpg\") as im:\n",
    "    draw = ImageDraw.Draw(im)\n",
    "    circle = draw.pieslice(xy, start, end, fill=None, outline=None, width=1)\n",
    "    "
   ]
  },
  {
   "cell_type": "code",
   "execution_count": 6,
   "metadata": {},
   "outputs": [],
   "source": [
    "# write results\n",
    "cv2.imwrite(\"test_canny.jpg\", canny)\n",
    "cv2.imwrite(\"test_circle.jpg\", result)\n"
   ]
  },
  {
   "cell_type": "markdown",
   "metadata": {},
   "source": [
    "##### Making a mask -- using cloud detector method"
   ]
  },
  {
   "cell_type": "code",
   "execution_count": 7,
   "metadata": {},
   "outputs": [],
   "source": [
    "#FIX THIS"
   ]
  },
  {
   "cell_type": "code",
   "execution_count": null,
   "metadata": {},
   "outputs": [],
   "source": []
  }
 ],
 "metadata": {
  "kernelspec": {
   "display_name": "Python 3",
   "language": "python",
   "name": "python3"
  },
  "language_info": {
   "codemirror_mode": {
    "name": "ipython",
    "version": 3
   },
   "file_extension": ".py",
   "mimetype": "text/x-python",
   "name": "python",
   "nbconvert_exporter": "python",
   "pygments_lexer": "ipython3",
   "version": "3.7.6"
  }
 },
 "nbformat": 4,
 "nbformat_minor": 4
}
